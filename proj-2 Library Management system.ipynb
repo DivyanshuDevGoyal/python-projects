{
 "cells": [
  {
   "cell_type": "code",
   "execution_count": 2,
   "id": "2c7738f8-ec18-48f7-9904-dd8439192331",
   "metadata": {},
   "outputs": [
    {
     "name": "stdin",
     "output_type": "stream",
     "text": [
      "enter your username devlib\n",
      "enter password 123456\n"
     ]
    },
    {
     "name": "stdout",
     "output_type": "stream",
     "text": [
      "LogIn Successful\n",
      "\n",
      "            press 1 to see books available\n",
      "            press 2 to borrow book\n",
      "            press 3 to return book \n",
      "            \n"
     ]
    },
    {
     "name": "stdin",
     "output_type": "stream",
     "text": [
      "enter your choice 1\n"
     ]
    },
    {
     "name": "stdout",
     "output_type": "stream",
     "text": [
      "{'Maths': 5, 'Science': 5, 'Psycology': 5, 'Sports': 10, 'Novel': 5}\n",
      "Books borrower is {}\n",
      "LogIn Successful\n",
      "\n",
      "            press 1 to see books available\n",
      "            press 2 to borrow book\n",
      "            press 3 to return book \n",
      "            \n"
     ]
    },
    {
     "name": "stdin",
     "output_type": "stream",
     "text": [
      "enter your choice 2\n"
     ]
    },
    {
     "name": "stdout",
     "output_type": "stream",
     "text": [
      "{'Maths': 5, 'Science': 5, 'Psycology': 5, 'Sports': 10, 'Novel': 5}\n"
     ]
    },
    {
     "name": "stdin",
     "output_type": "stream",
     "text": [
      "enter name of borrower sachin\n",
      "enter book to be borrowed maths\n"
     ]
    },
    {
     "name": "stdout",
     "output_type": "stream",
     "text": [
      "{'Maths': 4, 'Science': 5, 'Psycology': 5, 'Sports': 10, 'Novel': 5}\n",
      "{'sachin': ['Maths']}\n"
     ]
    },
    {
     "name": "stdin",
     "output_type": "stream",
     "text": [
      "do you want to add more books? (yes / no) yes\n",
      "enter book to be borrowed science\n"
     ]
    },
    {
     "name": "stdout",
     "output_type": "stream",
     "text": [
      "{'Maths': 4, 'Science': 4, 'Psycology': 5, 'Sports': 10, 'Novel': 5}\n",
      "{'sachin': ['Science']}\n"
     ]
    },
    {
     "name": "stdin",
     "output_type": "stream",
     "text": [
      "do you want to add more books? (yes / no) no\n"
     ]
    },
    {
     "name": "stdout",
     "output_type": "stream",
     "text": [
      "Books borrower is {'sachin': ['Science']}\n",
      "LogIn Successful\n",
      "\n",
      "            press 1 to see books available\n",
      "            press 2 to borrow book\n",
      "            press 3 to return book \n",
      "            \n"
     ]
    },
    {
     "name": "stdin",
     "output_type": "stream",
     "text": [
      "enter your choice 3\n"
     ]
    },
    {
     "name": "stdout",
     "output_type": "stream",
     "text": [
      "{'Maths': 4, 'Science': 4, 'Psycology': 5, 'Sports': 10, 'Novel': 5}\n",
      "{'sachin': ['Science']}\n"
     ]
    },
    {
     "name": "stdin",
     "output_type": "stream",
     "text": [
      "enter name of returner sachin\n",
      "enter book to be returned science\n"
     ]
    },
    {
     "name": "stdout",
     "output_type": "stream",
     "text": [
      "{'Maths': 4, 'Science': 5, 'Psycology': 5, 'Sports': 10, 'Novel': 5}\n",
      "{}\n",
      "Books borrower is {}\n",
      "LogIn Successful\n",
      "\n",
      "            press 1 to see books available\n",
      "            press 2 to borrow book\n",
      "            press 3 to return book \n",
      "            \n"
     ]
    },
    {
     "name": "stdin",
     "output_type": "stream",
     "text": [
      "enter your choice 3\n"
     ]
    },
    {
     "name": "stdout",
     "output_type": "stream",
     "text": [
      "{'Maths': 4, 'Science': 5, 'Psycology': 5, 'Sports': 10, 'Novel': 5}\n",
      "{}\n"
     ]
    },
    {
     "name": "stdin",
     "output_type": "stream",
     "text": [
      "enter name of returner sachin\n",
      "enter book to be returned maths\n"
     ]
    },
    {
     "ename": "KeyError",
     "evalue": "'sachin'",
     "output_type": "error",
     "traceback": [
      "\u001b[1;31m---------------------------------------------------------------------------\u001b[0m",
      "\u001b[1;31mKeyError\u001b[0m                                  Traceback (most recent call last)",
      "Cell \u001b[1;32mIn[2], line 50\u001b[0m\n\u001b[0;32m     47\u001b[0m book \u001b[38;5;241m=\u001b[39m \u001b[38;5;28minput\u001b[39m(\u001b[38;5;124m\"\u001b[39m\u001b[38;5;124menter book to be returned\u001b[39m\u001b[38;5;124m\"\u001b[39m)\u001b[38;5;241m.\u001b[39mcapitalize()\n\u001b[0;32m     49\u001b[0m books[book] \u001b[38;5;241m+\u001b[39m\u001b[38;5;241m=\u001b[39m \u001b[38;5;241m1\u001b[39m\n\u001b[1;32m---> 50\u001b[0m \u001b[38;5;28;01mdel\u001b[39;00m \u001b[43mbb\u001b[49m\u001b[43m[\u001b[49m\u001b[43mname\u001b[49m\u001b[43m]\u001b[49m \n\u001b[0;32m     51\u001b[0m \u001b[38;5;28mprint\u001b[39m(books)\n\u001b[0;32m     52\u001b[0m \u001b[38;5;28mprint\u001b[39m(bb)\n",
      "\u001b[1;31mKeyError\u001b[0m: 'sachin'"
     ]
    }
   ],
   "source": [
    "user_name = \"devlib\"\n",
    "password = 123456\n",
    "books = {\"Maths\" : 5, \"Science\" : 5, \"Psycology\" : 5, \"Sports\" : 10, \"Novel\" : 5}\n",
    "bb = {}\n",
    "\n",
    "un = input(\"enter your username\")\n",
    "\n",
    "if un == user_name:\n",
    "    pw = int(input(\"enter password\"))\n",
    "    while True:\n",
    "    \n",
    "        if pw == password:\n",
    "            print(\"LogIn Successful\")\n",
    "            print(\"\"\"\n",
    "            press 1 to see books available\n",
    "            press 2 to borrow book\n",
    "            press 3 to return book \n",
    "            \"\"\")\n",
    "            ch = int(input(\"enter your choice\"))\n",
    "        \n",
    "            if ch == 1:\n",
    "                print(books)\n",
    "                    \n",
    "            elif ch == 2:\n",
    "                print(books)    \n",
    "                name = input(\"enter name of borrower\")\n",
    "                while True:\n",
    "                    more_books = []\n",
    "                    book = input(\"enter book to be borrowed\").capitalize()\n",
    "                    if books[book] > 0:\n",
    "                        books[book] -= 1\n",
    "                        more_books.append(book)\n",
    "                        bb[name] = more_books\n",
    "                    else:\n",
    "                        print(\"Books are not available\")\n",
    "                   \n",
    "                    print(books)\n",
    "                    print(bb)\n",
    "                    choice = input(\"do you want to add more books? (yes / no)\")\n",
    "                    if choice == \"no\":\n",
    "                        break\n",
    "            elif ch == 3: \n",
    "                print(books)\n",
    "                print(bb)\n",
    "                    \n",
    "                name = input(\"enter name of returner\")\n",
    "                book = input(\"enter book to be returned\").capitalize()\n",
    "        \n",
    "                books[book] += 1\n",
    "                del bb[name] \n",
    "                print(books)\n",
    "                print(bb)\n",
    "    \n",
    "            else:\n",
    "                print(\"invalid choice\")\n",
    "                \n",
    "            print(\"Books borrower is\",bb)    \n",
    "\n",
    "    else:\n",
    "        print(\"Incorrect password\")\n",
    "    \n",
    "else:\n",
    "    print(\"Incorrect Username. Try Again!!!\" )"
   ]
  },
  {
   "cell_type": "code",
   "execution_count": null,
   "id": "bce8f156-c505-4830-9b43-e3432d9217c7",
   "metadata": {},
   "outputs": [],
   "source": []
  }
 ],
 "metadata": {
  "kernelspec": {
   "display_name": "Python 3 (ipykernel)",
   "language": "python",
   "name": "python3"
  },
  "language_info": {
   "codemirror_mode": {
    "name": "ipython",
    "version": 3
   },
   "file_extension": ".py",
   "mimetype": "text/x-python",
   "name": "python",
   "nbconvert_exporter": "python",
   "pygments_lexer": "ipython3",
   "version": "3.11.5"
  }
 },
 "nbformat": 4,
 "nbformat_minor": 5
}
