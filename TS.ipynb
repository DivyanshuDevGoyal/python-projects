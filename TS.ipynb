{
 "cells": [
  {
   "cell_type": "code",
   "execution_count": null,
   "id": "7ce1b8e5-3a9e-469c-92c8-f03e296d938b",
   "metadata": {},
   "outputs": [],
   "source": [
    "normal_c = 10             # START\n",
    "recliner_c = 10\n",
    "normal_p = 100\n",
    "recliner_p = 300\n",
    "combos_p = 300\n",
    "\n",
    "while normal_c > 0 or recliner_c > 0:\n",
    "    print(\"normal seats left are\",normal_c,\"recliner seats left are\",recliner_c)\n",
    "\n",
    "    customer_name = input(\"enter name\")\n",
    "\n",
    "    \n",
    "    normal_q = int(input(\"enter no. of normal seats to buy: \"))\n",
    "    normal_p = int(input(\"enter normal seat price\"))\n",
    "    total_1 = normal_q * normal_p\n",
    "    combos = input(\" do you want to buy combos of rs 300 (yes / no)\")\n",
    "    if combos == \"yes\":\n",
    "        combo_price  = int(input(\"enter price of combo\"))\n",
    "        bill = total_1 + combo_price\n",
    "    else:\n",
    "        bill = total_1\n",
    "    print(\"total price\",bill)    \n",
    "\n",
    "        \n",
    "    recliner_q = int(input(\"enter no. of recliner seats to buy: \"))\n",
    "    recliner_p = int(input(\"enter recliner price\"))\n",
    "    total_2 = recliner_q * recliner_p\n",
    "    combos = input(\" do you want to buy combos of rs 300 (yes / no)\")\n",
    "    if combos == \"yes\":\n",
    "        combo_price  = int(input(\"enter price of combo\"))\n",
    "        bill = total_2 + combo_price\n",
    "    else:\n",
    "        bill = total_2\n",
    "    print(\"total price\",bill)\n",
    "\n",
    "    if normal_q <= recliner_c and recliner_q <= recliner_c:\n",
    "\n",
    "        normal_c -= normal_q\n",
    "        recliner_c -= recliner_q\n",
    "        print(\"you have bought\",normal_q,\"normal seats\")\n",
    "        print(\"you have bought\",recliner_q,\"recliner seats\")\n",
    "\n",
    "    else:\n",
    "        print(\"Sorry, HOUSEFULL !!!\")\n",
    "    "
   ]
  }
 ],
 "metadata": {
  "kernelspec": {
   "display_name": "Python 3 (ipykernel)",
   "language": "python",
   "name": "python3"
  },
  "language_info": {
   "codemirror_mode": {
    "name": "ipython",
    "version": 3
   },
   "file_extension": ".py",
   "mimetype": "text/x-python",
   "name": "python",
   "nbconvert_exporter": "python",
   "pygments_lexer": "ipython3",
   "version": "3.11.5"
  }
 },
 "nbformat": 4,
 "nbformat_minor": 5
}
