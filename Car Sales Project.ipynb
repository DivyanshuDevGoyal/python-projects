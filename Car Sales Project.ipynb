{
 "cells": [
  {
   "cell_type": "markdown",
   "id": "cc6fb995-78f0-4540-98fe-98076b190b82",
   "metadata": {},
   "source": [
    "# VEHICLES SALES DATA #"
   ]
  },
  {
   "cell_type": "code",
   "execution_count": 328,
   "id": "0963dade-d868-48f2-9000-f1fa1af6fc3d",
   "metadata": {},
   "outputs": [],
   "source": [
    "import pandas as pd\n",
    "import numpy as np\n",
    "import matplotlib.pyplot as plt\n",
    "import seaborn as sns"
   ]
  },
  {
   "cell_type": "code",
   "execution_count": 329,
   "id": "4288c24a-2277-4e98-9550-3a8237add25a",
   "metadata": {},
   "outputs": [
    {
     "data": {
      "text/html": [
       "<div>\n",
       "<style scoped>\n",
       "    .dataframe tbody tr th:only-of-type {\n",
       "        vertical-align: middle;\n",
       "    }\n",
       "\n",
       "    .dataframe tbody tr th {\n",
       "        vertical-align: top;\n",
       "    }\n",
       "\n",
       "    .dataframe thead th {\n",
       "        text-align: right;\n",
       "    }\n",
       "</style>\n",
       "<table border=\"1\" class=\"dataframe\">\n",
       "  <thead>\n",
       "    <tr style=\"text-align: right;\">\n",
       "      <th></th>\n",
       "      <th>year</th>\n",
       "      <th>make</th>\n",
       "      <th>model</th>\n",
       "      <th>trim</th>\n",
       "      <th>body</th>\n",
       "      <th>transmission</th>\n",
       "      <th>vin</th>\n",
       "      <th>state</th>\n",
       "      <th>condition</th>\n",
       "      <th>odometer</th>\n",
       "      <th>color</th>\n",
       "      <th>interior</th>\n",
       "      <th>seller</th>\n",
       "      <th>mmr</th>\n",
       "      <th>sellingprice</th>\n",
       "      <th>saledate</th>\n",
       "    </tr>\n",
       "  </thead>\n",
       "  <tbody>\n",
       "    <tr>\n",
       "      <th>0</th>\n",
       "      <td>2015</td>\n",
       "      <td>Kia</td>\n",
       "      <td>Sorento</td>\n",
       "      <td>LX</td>\n",
       "      <td>SUV</td>\n",
       "      <td>automatic</td>\n",
       "      <td>5xyktca69fg566472</td>\n",
       "      <td>ca</td>\n",
       "      <td>5.0</td>\n",
       "      <td>16639.0</td>\n",
       "      <td>white</td>\n",
       "      <td>black</td>\n",
       "      <td>kia motors america  inc</td>\n",
       "      <td>20500.0</td>\n",
       "      <td>21500.0</td>\n",
       "      <td>Tue Dec 16 2014 12:30:00 GMT-0800 (PST)</td>\n",
       "    </tr>\n",
       "    <tr>\n",
       "      <th>1</th>\n",
       "      <td>2015</td>\n",
       "      <td>Kia</td>\n",
       "      <td>Sorento</td>\n",
       "      <td>LX</td>\n",
       "      <td>SUV</td>\n",
       "      <td>automatic</td>\n",
       "      <td>5xyktca69fg561319</td>\n",
       "      <td>ca</td>\n",
       "      <td>5.0</td>\n",
       "      <td>9393.0</td>\n",
       "      <td>white</td>\n",
       "      <td>beige</td>\n",
       "      <td>kia motors america  inc</td>\n",
       "      <td>20800.0</td>\n",
       "      <td>21500.0</td>\n",
       "      <td>Tue Dec 16 2014 12:30:00 GMT-0800 (PST)</td>\n",
       "    </tr>\n",
       "    <tr>\n",
       "      <th>2</th>\n",
       "      <td>2014</td>\n",
       "      <td>BMW</td>\n",
       "      <td>3 Series</td>\n",
       "      <td>328i SULEV</td>\n",
       "      <td>Sedan</td>\n",
       "      <td>automatic</td>\n",
       "      <td>wba3c1c51ek116351</td>\n",
       "      <td>ca</td>\n",
       "      <td>45.0</td>\n",
       "      <td>1331.0</td>\n",
       "      <td>gray</td>\n",
       "      <td>black</td>\n",
       "      <td>financial services remarketing (lease)</td>\n",
       "      <td>31900.0</td>\n",
       "      <td>30000.0</td>\n",
       "      <td>Thu Jan 15 2015 04:30:00 GMT-0800 (PST)</td>\n",
       "    </tr>\n",
       "  </tbody>\n",
       "</table>\n",
       "</div>"
      ],
      "text/plain": [
       "   year make     model        trim   body transmission                vin  \\\n",
       "0  2015  Kia   Sorento          LX    SUV    automatic  5xyktca69fg566472   \n",
       "1  2015  Kia   Sorento          LX    SUV    automatic  5xyktca69fg561319   \n",
       "2  2014  BMW  3 Series  328i SULEV  Sedan    automatic  wba3c1c51ek116351   \n",
       "\n",
       "  state  condition  odometer  color interior  \\\n",
       "0    ca        5.0   16639.0  white    black   \n",
       "1    ca        5.0    9393.0  white    beige   \n",
       "2    ca       45.0    1331.0   gray    black   \n",
       "\n",
       "                                   seller      mmr  sellingprice  \\\n",
       "0                 kia motors america  inc  20500.0       21500.0   \n",
       "1                 kia motors america  inc  20800.0       21500.0   \n",
       "2  financial services remarketing (lease)  31900.0       30000.0   \n",
       "\n",
       "                                  saledate  \n",
       "0  Tue Dec 16 2014 12:30:00 GMT-0800 (PST)  \n",
       "1  Tue Dec 16 2014 12:30:00 GMT-0800 (PST)  \n",
       "2  Thu Jan 15 2015 04:30:00 GMT-0800 (PST)  "
      ]
     },
     "execution_count": 329,
     "metadata": {},
     "output_type": "execute_result"
    }
   ],
   "source": [
    "df = pd.read_csv(\"car_prices.csv\")\n",
    "df.head(3)"
   ]
  },
  {
   "cell_type": "code",
   "execution_count": 330,
   "id": "87cdbbe0-bd4a-48cc-ba1b-0b52de977749",
   "metadata": {},
   "outputs": [
    {
     "data": {
      "text/html": [
       "<div>\n",
       "<style scoped>\n",
       "    .dataframe tbody tr th:only-of-type {\n",
       "        vertical-align: middle;\n",
       "    }\n",
       "\n",
       "    .dataframe tbody tr th {\n",
       "        vertical-align: top;\n",
       "    }\n",
       "\n",
       "    .dataframe thead th {\n",
       "        text-align: right;\n",
       "    }\n",
       "</style>\n",
       "<table border=\"1\" class=\"dataframe\">\n",
       "  <thead>\n",
       "    <tr style=\"text-align: right;\">\n",
       "      <th></th>\n",
       "      <th>year</th>\n",
       "      <th>make</th>\n",
       "      <th>model</th>\n",
       "      <th>body</th>\n",
       "      <th>state</th>\n",
       "      <th>odometer</th>\n",
       "      <th>mmr</th>\n",
       "      <th>sellingprice</th>\n",
       "      <th>saledate</th>\n",
       "    </tr>\n",
       "  </thead>\n",
       "  <tbody>\n",
       "    <tr>\n",
       "      <th>0</th>\n",
       "      <td>2015</td>\n",
       "      <td>Kia</td>\n",
       "      <td>Sorento</td>\n",
       "      <td>SUV</td>\n",
       "      <td>ca</td>\n",
       "      <td>16639.0</td>\n",
       "      <td>20500.0</td>\n",
       "      <td>21500.0</td>\n",
       "      <td>Tue Dec 16 2014 12:30:00 GMT-0800 (PST)</td>\n",
       "    </tr>\n",
       "  </tbody>\n",
       "</table>\n",
       "</div>"
      ],
      "text/plain": [
       "   year make    model body state  odometer      mmr  sellingprice  \\\n",
       "0  2015  Kia  Sorento  SUV    ca   16639.0  20500.0       21500.0   \n",
       "\n",
       "                                  saledate  \n",
       "0  Tue Dec 16 2014 12:30:00 GMT-0800 (PST)  "
      ]
     },
     "execution_count": 330,
     "metadata": {},
     "output_type": "execute_result"
    }
   ],
   "source": [
    "df.drop([\"trim\",\"vin\",\"condition\",\"color\",\"interior\",\"seller\",'transmission'],axis = 1,inplace = True)\n",
    "df.head(1)"
   ]
  },
  {
   "cell_type": "code",
   "execution_count": 331,
   "id": "26c6b1e0-6acd-4a16-a195-cfe843180f93",
   "metadata": {},
   "outputs": [
    {
     "data": {
      "text/plain": [
       "(558837, 9)"
      ]
     },
     "execution_count": 331,
     "metadata": {},
     "output_type": "execute_result"
    }
   ],
   "source": [
    "df.shape"
   ]
  },
  {
   "cell_type": "code",
   "execution_count": 332,
   "id": "05fd3274-781d-451b-9c55-001c0cd65f30",
   "metadata": {},
   "outputs": [
    {
     "data": {
      "text/plain": [
       "year                0\n",
       "make            10301\n",
       "model           10399\n",
       "body            13195\n",
       "state               0\n",
       "odometer           94\n",
       "mmr                38\n",
       "sellingprice       12\n",
       "saledate           12\n",
       "dtype: int64"
      ]
     },
     "execution_count": 332,
     "metadata": {},
     "output_type": "execute_result"
    }
   ],
   "source": [
    "df.isnull().sum()"
   ]
  },
  {
   "cell_type": "code",
   "execution_count": 333,
   "id": "a84e169c-271c-43eb-bc8c-fc3ce5c79189",
   "metadata": {},
   "outputs": [
    {
     "name": "stdout",
     "output_type": "stream",
     "text": [
      "<class 'pandas.core.frame.DataFrame'>\n",
      "RangeIndex: 558837 entries, 0 to 558836\n",
      "Data columns (total 9 columns):\n",
      " #   Column        Non-Null Count   Dtype  \n",
      "---  ------        --------------   -----  \n",
      " 0   year          558837 non-null  int64  \n",
      " 1   make          548536 non-null  object \n",
      " 2   model         548438 non-null  object \n",
      " 3   body          545642 non-null  object \n",
      " 4   state         558837 non-null  object \n",
      " 5   odometer      558743 non-null  float64\n",
      " 6   mmr           558799 non-null  float64\n",
      " 7   sellingprice  558825 non-null  float64\n",
      " 8   saledate      558825 non-null  object \n",
      "dtypes: float64(3), int64(1), object(5)\n",
      "memory usage: 38.4+ MB\n"
     ]
    }
   ],
   "source": [
    "df.info()"
   ]
  },
  {
   "cell_type": "code",
   "execution_count": 334,
   "id": "a70423e5-e884-4027-9802-d520b85b8dec",
   "metadata": {},
   "outputs": [],
   "source": [
    "df['SaleDate'] = pd.to_datetime(df['saledate'], errors='coerce', utc = True)"
   ]
  },
  {
   "cell_type": "code",
   "execution_count": 335,
   "id": "8f99bdbf-c0b1-4bfb-8268-af58718fdac2",
   "metadata": {},
   "outputs": [
    {
     "data": {
      "text/plain": [
       "datetime64[ns, UTC]"
      ]
     },
     "execution_count": 335,
     "metadata": {},
     "output_type": "execute_result"
    }
   ],
   "source": [
    "df['SaleDate'].dtype"
   ]
  },
  {
   "cell_type": "code",
   "execution_count": 336,
   "id": "b48ce397-f3de-499f-b39f-55651a69b078",
   "metadata": {},
   "outputs": [
    {
     "data": {
      "text/html": [
       "<div>\n",
       "<style scoped>\n",
       "    .dataframe tbody tr th:only-of-type {\n",
       "        vertical-align: middle;\n",
       "    }\n",
       "\n",
       "    .dataframe tbody tr th {\n",
       "        vertical-align: top;\n",
       "    }\n",
       "\n",
       "    .dataframe thead th {\n",
       "        text-align: right;\n",
       "    }\n",
       "</style>\n",
       "<table border=\"1\" class=\"dataframe\">\n",
       "  <thead>\n",
       "    <tr style=\"text-align: right;\">\n",
       "      <th></th>\n",
       "      <th>year</th>\n",
       "      <th>make</th>\n",
       "      <th>model</th>\n",
       "      <th>body</th>\n",
       "      <th>state</th>\n",
       "      <th>odometer</th>\n",
       "      <th>mmr</th>\n",
       "      <th>sellingprice</th>\n",
       "      <th>saledate</th>\n",
       "      <th>SaleDate</th>\n",
       "    </tr>\n",
       "  </thead>\n",
       "  <tbody>\n",
       "    <tr>\n",
       "      <th>0</th>\n",
       "      <td>2015</td>\n",
       "      <td>Kia</td>\n",
       "      <td>Sorento</td>\n",
       "      <td>SUV</td>\n",
       "      <td>ca</td>\n",
       "      <td>16639.0</td>\n",
       "      <td>20500.0</td>\n",
       "      <td>21500.0</td>\n",
       "      <td>Tue Dec 16 2014 12:30:00 GMT-0800 (PST)</td>\n",
       "      <td>2014-12-16 04:30:00+00:00</td>\n",
       "    </tr>\n",
       "  </tbody>\n",
       "</table>\n",
       "</div>"
      ],
      "text/plain": [
       "   year make    model body state  odometer      mmr  sellingprice  \\\n",
       "0  2015  Kia  Sorento  SUV    ca   16639.0  20500.0       21500.0   \n",
       "\n",
       "                                  saledate                  SaleDate  \n",
       "0  Tue Dec 16 2014 12:30:00 GMT-0800 (PST) 2014-12-16 04:30:00+00:00  "
      ]
     },
     "execution_count": 336,
     "metadata": {},
     "output_type": "execute_result"
    }
   ],
   "source": [
    "df.head(1)"
   ]
  },
  {
   "cell_type": "code",
   "execution_count": 337,
   "id": "0d2ed1d4-f71e-4816-9722-b1cb710d3a24",
   "metadata": {},
   "outputs": [
    {
     "data": {
      "text/html": [
       "<div>\n",
       "<style scoped>\n",
       "    .dataframe tbody tr th:only-of-type {\n",
       "        vertical-align: middle;\n",
       "    }\n",
       "\n",
       "    .dataframe tbody tr th {\n",
       "        vertical-align: top;\n",
       "    }\n",
       "\n",
       "    .dataframe thead th {\n",
       "        text-align: right;\n",
       "    }\n",
       "</style>\n",
       "<table border=\"1\" class=\"dataframe\">\n",
       "  <thead>\n",
       "    <tr style=\"text-align: right;\">\n",
       "      <th></th>\n",
       "      <th>year</th>\n",
       "      <th>make</th>\n",
       "      <th>model</th>\n",
       "      <th>body</th>\n",
       "      <th>state</th>\n",
       "      <th>odometer</th>\n",
       "      <th>mmr</th>\n",
       "      <th>sellingprice</th>\n",
       "      <th>saledate</th>\n",
       "      <th>SaleDate</th>\n",
       "      <th>salemonth</th>\n",
       "      <th>saleyear</th>\n",
       "    </tr>\n",
       "  </thead>\n",
       "  <tbody>\n",
       "    <tr>\n",
       "      <th>0</th>\n",
       "      <td>2015</td>\n",
       "      <td>Kia</td>\n",
       "      <td>Sorento</td>\n",
       "      <td>SUV</td>\n",
       "      <td>ca</td>\n",
       "      <td>16639.0</td>\n",
       "      <td>20500.0</td>\n",
       "      <td>21500.0</td>\n",
       "      <td>Tue Dec 16 2014 12:30:00 GMT-0800 (PST)</td>\n",
       "      <td>2014-12-16 04:30:00+00:00</td>\n",
       "      <td>12.0</td>\n",
       "      <td>2014.0</td>\n",
       "    </tr>\n",
       "  </tbody>\n",
       "</table>\n",
       "</div>"
      ],
      "text/plain": [
       "   year make    model body state  odometer      mmr  sellingprice  \\\n",
       "0  2015  Kia  Sorento  SUV    ca   16639.0  20500.0       21500.0   \n",
       "\n",
       "                                  saledate                  SaleDate  \\\n",
       "0  Tue Dec 16 2014 12:30:00 GMT-0800 (PST) 2014-12-16 04:30:00+00:00   \n",
       "\n",
       "   salemonth  saleyear  \n",
       "0       12.0    2014.0  "
      ]
     },
     "execution_count": 337,
     "metadata": {},
     "output_type": "execute_result"
    }
   ],
   "source": [
    "df['salemonth'] = df['SaleDate'].dt.month\n",
    "df['saleyear'] = df['SaleDate'].dt.year\n",
    "df.head(1)"
   ]
  },
  {
   "cell_type": "code",
   "execution_count": 338,
   "id": "290aa167-089a-46ed-ba14-92a3a83b9c4d",
   "metadata": {},
   "outputs": [
    {
     "data": {
      "text/html": [
       "<div>\n",
       "<style scoped>\n",
       "    .dataframe tbody tr th:only-of-type {\n",
       "        vertical-align: middle;\n",
       "    }\n",
       "\n",
       "    .dataframe tbody tr th {\n",
       "        vertical-align: top;\n",
       "    }\n",
       "\n",
       "    .dataframe thead th {\n",
       "        text-align: right;\n",
       "    }\n",
       "</style>\n",
       "<table border=\"1\" class=\"dataframe\">\n",
       "  <thead>\n",
       "    <tr style=\"text-align: right;\">\n",
       "      <th></th>\n",
       "      <th>year</th>\n",
       "      <th>make</th>\n",
       "      <th>model</th>\n",
       "      <th>body</th>\n",
       "      <th>state</th>\n",
       "      <th>odometer</th>\n",
       "      <th>mmr</th>\n",
       "      <th>sellingprice</th>\n",
       "      <th>salemonth</th>\n",
       "      <th>saleyear</th>\n",
       "    </tr>\n",
       "  </thead>\n",
       "  <tbody>\n",
       "    <tr>\n",
       "      <th>0</th>\n",
       "      <td>2015</td>\n",
       "      <td>Kia</td>\n",
       "      <td>Sorento</td>\n",
       "      <td>SUV</td>\n",
       "      <td>ca</td>\n",
       "      <td>16639.0</td>\n",
       "      <td>20500.0</td>\n",
       "      <td>21500.0</td>\n",
       "      <td>12.0</td>\n",
       "      <td>2014.0</td>\n",
       "    </tr>\n",
       "  </tbody>\n",
       "</table>\n",
       "</div>"
      ],
      "text/plain": [
       "   year make    model body state  odometer      mmr  sellingprice  salemonth  \\\n",
       "0  2015  Kia  Sorento  SUV    ca   16639.0  20500.0       21500.0       12.0   \n",
       "\n",
       "   saleyear  \n",
       "0    2014.0  "
      ]
     },
     "execution_count": 338,
     "metadata": {},
     "output_type": "execute_result"
    }
   ],
   "source": [
    "df.drop(['saledate','SaleDate'],axis = 1, inplace = True)\n",
    "df.head(1)"
   ]
  },
  {
   "cell_type": "code",
   "execution_count": 339,
   "id": "5362ec56-2716-431b-a97f-8f8e1ec59d0a",
   "metadata": {},
   "outputs": [
    {
     "data": {
      "text/plain": [
       "year                0\n",
       "make            10301\n",
       "model           10399\n",
       "body            13195\n",
       "state               0\n",
       "odometer           94\n",
       "mmr                38\n",
       "sellingprice       12\n",
       "salemonth          38\n",
       "saleyear           38\n",
       "dtype: int64"
      ]
     },
     "execution_count": 339,
     "metadata": {},
     "output_type": "execute_result"
    }
   ],
   "source": [
    "df.isnull().sum()"
   ]
  },
  {
   "cell_type": "markdown",
   "id": "947ecab2-85e9-45a4-a20a-370d3772d7dc",
   "metadata": {},
   "source": [
    "### Filling Null Values ###\n",
    "\n",
    "**Non Numereical Null Values are filled as follow :-**"
   ]
  },
  {
   "cell_type": "code",
   "execution_count": 340,
   "id": "2a1f077b-baea-4679-8e8c-8d3a9bc9ef9a",
   "metadata": {},
   "outputs": [],
   "source": [
    "import warnings\n",
    "warnings.filterwarnings('ignore')\n",
    "\n",
    "\n",
    "df['make'] = df['make'].fillna(method = 'ffill')\n",
    "\n",
    "df['model'] = df['model'].fillna(method = 'ffill')\n",
    "\n",
    "df['body'] = df['body'].fillna(method = 'ffill')\n",
    "\n",
    "df['salemonth'] = df['salemonth'].fillna(method = 'bfill')\n",
    "\n",
    "df['saleyear'] = df['saleyear'].fillna(method = 'bfill')"
   ]
  },
  {
   "cell_type": "markdown",
   "id": "de0aa8c1-2059-4144-8a5c-390571692dd9",
   "metadata": {},
   "source": [
    "**Numereical Null Values are filled as follow :-**"
   ]
  },
  {
   "cell_type": "code",
   "execution_count": 341,
   "id": "16e05c18-4371-4456-8973-d0b775bdc26a",
   "metadata": {},
   "outputs": [
    {
     "data": {
      "text/plain": [
       "68320.01776666554"
      ]
     },
     "execution_count": 341,
     "metadata": {},
     "output_type": "execute_result"
    }
   ],
   "source": [
    "df.odometer.mean()"
   ]
  },
  {
   "cell_type": "code",
   "execution_count": 342,
   "id": "3497f936-011b-4cfc-a38a-3e426a05cb24",
   "metadata": {},
   "outputs": [],
   "source": [
    "df.odometer = df.odometer.fillna(68320)"
   ]
  },
  {
   "cell_type": "code",
   "execution_count": 257,
   "id": "ebc616a0-9118-4368-8b9d-5524c8ee650f",
   "metadata": {},
   "outputs": [
    {
     "data": {
      "text/plain": [
       "13769.377495306899"
      ]
     },
     "execution_count": 257,
     "metadata": {},
     "output_type": "execute_result"
    }
   ],
   "source": [
    "df.mmr.mean()"
   ]
  },
  {
   "cell_type": "code",
   "execution_count": 343,
   "id": "c139644a-d71a-47ff-a267-16d28e09053d",
   "metadata": {},
   "outputs": [],
   "source": [
    "df.mmr = df.mmr.fillna(13769)"
   ]
  },
  {
   "cell_type": "code",
   "execution_count": 344,
   "id": "8d3cd4cf-fcff-4886-9739-ea0fe52b57fe",
   "metadata": {},
   "outputs": [
    {
     "data": {
      "text/plain": [
       "13611.358810003132"
      ]
     },
     "execution_count": 344,
     "metadata": {},
     "output_type": "execute_result"
    }
   ],
   "source": [
    "df['sellingprice'].mean()"
   ]
  },
  {
   "cell_type": "code",
   "execution_count": 345,
   "id": "4087ae8f-c9fe-401c-981b-888ef9f7d1df",
   "metadata": {},
   "outputs": [],
   "source": [
    "df['sellingprice'] = df['sellingprice'].fillna(13611)"
   ]
  },
  {
   "cell_type": "code",
   "execution_count": 346,
   "id": "ccbdf147-a393-4360-8ec1-5285c3c0c444",
   "metadata": {},
   "outputs": [
    {
     "data": {
      "text/plain": [
       "year            0\n",
       "make            0\n",
       "model           0\n",
       "body            0\n",
       "state           0\n",
       "odometer        0\n",
       "mmr             0\n",
       "sellingprice    0\n",
       "salemonth       0\n",
       "saleyear        0\n",
       "dtype: int64"
      ]
     },
     "execution_count": 346,
     "metadata": {},
     "output_type": "execute_result"
    }
   ],
   "source": [
    "df.isnull().sum()"
   ]
  },
  {
   "cell_type": "markdown",
   "id": "e7d0aea4-7b24-4185-9276-4cfb715f9bd2",
   "metadata": {},
   "source": [
    "**No null values are present anymore**"
   ]
  },
  {
   "cell_type": "code",
   "execution_count": 347,
   "id": "e5b3fc03-47bc-4861-b91c-f838dd862f48",
   "metadata": {},
   "outputs": [
    {
     "name": "stdout",
     "output_type": "stream",
     "text": [
      "<class 'pandas.core.frame.DataFrame'>\n",
      "RangeIndex: 558837 entries, 0 to 558836\n",
      "Data columns (total 10 columns):\n",
      " #   Column        Non-Null Count   Dtype  \n",
      "---  ------        --------------   -----  \n",
      " 0   year          558837 non-null  int64  \n",
      " 1   make          558837 non-null  object \n",
      " 2   model         558837 non-null  object \n",
      " 3   body          558837 non-null  object \n",
      " 4   state         558837 non-null  object \n",
      " 5   odometer      558837 non-null  float64\n",
      " 6   mmr           558837 non-null  float64\n",
      " 7   sellingprice  558837 non-null  float64\n",
      " 8   salemonth     558837 non-null  float64\n",
      " 9   saleyear      558837 non-null  float64\n",
      "dtypes: float64(5), int64(1), object(4)\n",
      "memory usage: 42.6+ MB\n"
     ]
    }
   ],
   "source": [
    "df.info()"
   ]
  },
  {
   "cell_type": "code",
   "execution_count": 348,
   "id": "a3147a9f-c1c4-453d-970c-2f6986961794",
   "metadata": {},
   "outputs": [],
   "source": [
    "df.odometer = df.odometer.astype('int')\n",
    "df.mmr = df.mmr.astype('int')\n",
    "df.sellingprice = df.sellingprice.astype('int')\n",
    "df.salemonth = df.salemonth.astype('int')\n",
    "df.saleyear = df.saleyear.astype('int')"
   ]
  },
  {
   "cell_type": "markdown",
   "id": "15b9b17d-9356-448e-9145-eab48ceae6c0",
   "metadata": {},
   "source": [
    "# EDA #"
   ]
  },
  {
   "cell_type": "markdown",
   "id": "863c5b13-df7e-4c4d-aa70-0bbddf258771",
   "metadata": {},
   "source": [
    "**Que-1. What is the trend in vehicle sales over the years covered by the dataset?**"
   ]
  },
  {
   "cell_type": "code",
   "execution_count": 349,
   "id": "94002187-d22c-4c1d-ad9c-40371af030a4",
   "metadata": {},
   "outputs": [
    {
     "data": {
      "text/html": [
       "<div>\n",
       "<style scoped>\n",
       "    .dataframe tbody tr th:only-of-type {\n",
       "        vertical-align: middle;\n",
       "    }\n",
       "\n",
       "    .dataframe tbody tr th {\n",
       "        vertical-align: top;\n",
       "    }\n",
       "\n",
       "    .dataframe thead th {\n",
       "        text-align: right;\n",
       "    }\n",
       "</style>\n",
       "<table border=\"1\" class=\"dataframe\">\n",
       "  <thead>\n",
       "    <tr style=\"text-align: right;\">\n",
       "      <th></th>\n",
       "      <th>sellingprice</th>\n",
       "    </tr>\n",
       "    <tr>\n",
       "      <th>saleyear</th>\n",
       "      <th></th>\n",
       "    </tr>\n",
       "  </thead>\n",
       "  <tbody>\n",
       "    <tr>\n",
       "      <th>2014</th>\n",
       "      <td>607649230</td>\n",
       "    </tr>\n",
       "    <tr>\n",
       "      <th>2015</th>\n",
       "      <td>6998881689</td>\n",
       "    </tr>\n",
       "  </tbody>\n",
       "</table>\n",
       "</div>"
      ],
      "text/plain": [
       "          sellingprice\n",
       "saleyear              \n",
       "2014         607649230\n",
       "2015        6998881689"
      ]
     },
     "execution_count": 349,
     "metadata": {},
     "output_type": "execute_result"
    }
   ],
   "source": [
    "a = df.groupby('saleyear').agg({'sellingprice':'sum'})\n",
    "a"
   ]
  },
  {
   "cell_type": "code",
   "execution_count": 384,
   "id": "6e602bed-f6de-4cff-a8d6-8d143cd933dc",
   "metadata": {},
   "outputs": [
    {
     "data": {
      "image/png": "[encoded data removed]",
      "text/plain": [
       "<Figure size 640x480 with 1 Axes>"
      ]
     },
     "metadata": {},
     "output_type": "display_data"
    }
   ],
   "source": [
    "ax = sns.countplot(data=df, x='saleyear', palette = 'plasma')\n",
    "for bars in ax.containers:\n",
    "    ax.bar_label(bars)"
   ]
  },
  {
   "cell_type": "markdown",
   "id": "ec6759b7-de96-4f22-bd05-f02ecacb9cbf",
   "metadata": {},
   "source": [
    "**INSIGHT -- In 2014,53737 cars were sold for Rs 0.6 Billion  & in 2015, 505110 cars were sold for Rs 6.9 Billion.** "
   ]
  },
  {
   "cell_type": "markdown",
   "id": "850d292d-b622-49b7-9cec-3a2b28ca5bd7",
   "metadata": {},
   "source": [
    "**Que-2▪ Which vehicle brands/models are the top sellers overall?**"
   ]
  },
  {
   "cell_type": "code",
   "execution_count": 351,
   "id": "d0e02ebd-324f-42c5-a617-2236713e3edc",
   "metadata": {},
   "outputs": [
    {
     "data": {
      "text/plain": [
       "array(['Kia', 'BMW', 'Volvo', 'Nissan', 'Chevrolet', 'Audi', 'Ford',\n",
       "       'Hyundai', 'Buick', 'Cadillac', 'Acura', 'Lexus', 'Infiniti',\n",
       "       'Jeep', 'Mercedes-Benz', 'Mitsubishi', 'Mazda', 'MINI',\n",
       "       'Land Rover', 'Lincoln', 'lincoln', 'Jaguar', 'Volkswagen',\n",
       "       'Toyota', 'Subaru', 'Scion', 'Porsche', 'bmw', 'Dodge', 'FIAT',\n",
       "       'Chrysler', 'ford', 'Ferrari', 'Honda', 'GMC', 'mitsubishi', 'Ram',\n",
       "       'smart', 'chevrolet', 'Bentley', 'chrysler', 'pontiac', 'Pontiac',\n",
       "       'Saturn', 'Maserati', 'Mercury', 'HUMMER', 'landrover', 'cadillac',\n",
       "       'land rover', 'mercedes', 'mazda', 'toyota', 'lexus', 'gmc truck',\n",
       "       'honda', 'nissan', 'porsche', 'Saab', 'Suzuki', 'dodge', 'subaru',\n",
       "       'Oldsmobile', 'oldsmobile', 'hyundai', 'jeep', 'Isuzu', 'dodge tk',\n",
       "       'Geo', 'acura', 'volkswagen', 'suzuki', 'kia', 'audi',\n",
       "       'Rolls-Royce', 'gmc', 'maserati', 'mazda tk', 'mercury', 'buick',\n",
       "       'hyundai tk', 'mercedes-b', 'vw', 'Daewoo', 'chev truck',\n",
       "       'ford tk', 'plymouth', 'Plymouth', 'ford truck', 'Tesla',\n",
       "       'airstream', 'dot', 'Aston Martin', 'Fisker', 'Lamborghini',\n",
       "       'Lotus'], dtype=object)"
      ]
     },
     "execution_count": 351,
     "metadata": {},
     "output_type": "execute_result"
    }
   ],
   "source": [
    "#STEP-1 checking names in 'make' column\n",
    "df.make.unique()"
   ]
  },
  {
   "cell_type": "code",
   "execution_count": 352,
   "id": "91fbee05-3754-4441-9118-75aec56da77f",
   "metadata": {},
   "outputs": [
    {
     "data": {
      "text/plain": [
       "array(['kia', 'bmw', 'volvo', 'nissan', 'chevrolet', 'audi', 'ford',\n",
       "       'hyundai', 'buick', 'cadillac', 'acura', 'lexus', 'infiniti',\n",
       "       'jeep', 'mercedes-benz', 'mitsubishi', 'mazda', 'mini',\n",
       "       'land rover', 'lincoln', 'jaguar', 'volkswagen', 'toyota',\n",
       "       'subaru', 'scion', 'porsche', 'dodge', 'fiat', 'chrysler',\n",
       "       'ferrari', 'honda', 'gmc', 'ram', 'smart', 'bentley', 'pontiac',\n",
       "       'saturn', 'maserati', 'mercury', 'hummer', 'landrover', 'mercedes',\n",
       "       'gmc truck', 'saab', 'suzuki', 'oldsmobile', 'isuzu', 'dodge tk',\n",
       "       'geo', 'rolls-royce', 'mazda tk', 'hyundai tk', 'mercedes-b', 'vw',\n",
       "       'daewoo', 'chev truck', 'ford tk', 'plymouth', 'ford truck',\n",
       "       'tesla', 'airstream', 'dot', 'aston martin', 'fisker',\n",
       "       'lamborghini', 'lotus'], dtype=object)"
      ]
     },
     "execution_count": 352,
     "metadata": {},
     "output_type": "execute_result"
    }
   ],
   "source": [
    "df['make'] = df['make'].str.lower()\n",
    "\n",
    "b = df['make'].unique()\n",
    "b"
   ]
  },
  {
   "cell_type": "code",
   "execution_count": 353,
   "id": "d6c39966-85eb-47b1-8da1-ebf722369ff7",
   "metadata": {},
   "outputs": [
    {
     "data": {
      "text/plain": [
       "66"
      ]
     },
     "execution_count": 353,
     "metadata": {},
     "output_type": "execute_result"
    }
   ],
   "source": [
    "b=df['make'].nunique()\n",
    "b"
   ]
  },
  {
   "cell_type": "code",
   "execution_count": 354,
   "id": "952ad644-6bc5-44e2-91fe-c254f7b1eb98",
   "metadata": {},
   "outputs": [
    {
     "data": {
      "text/plain": [
       "array(['kia', 'bmw', 'volvo', 'nissan', 'chevrolet', 'audi', 'ford',\n",
       "       'hyundai', 'buick', 'cadillac', 'acura', 'lexus', 'infiniti',\n",
       "       'jeep', 'mercedes-benz', 'mitsubishi', 'mazda', 'mini',\n",
       "       'land rover', 'lincoln', 'jaguar', 'volkswagen', 'toyota',\n",
       "       'subaru', 'scion', 'porsche', 'dodge', 'fiat', 'chrysler',\n",
       "       'ferrari', 'honda', 'gmc', 'ram', 'smart', 'bentley', 'pontiac',\n",
       "       'saturn', 'maserati', 'mercury', 'hummer', 'landrover', 'saab',\n",
       "       'suzuki', 'oldsmobile', 'isuzu', 'geo', 'rolls-royce', 'daewoo',\n",
       "       'plymouth', 'tesla', 'airstream', 'dot', 'aston martin', 'fisker',\n",
       "       'lamborghini', 'lotus'], dtype=object)"
      ]
     },
     "execution_count": 354,
     "metadata": {},
     "output_type": "execute_result"
    }
   ],
   "source": [
    "replacements = {'mercedes':'mercedes-benz','mercedes-b':'mercedes-benz','gmc truck':'gmc','dodge tk':'dodge','vw':'volkswagen','ford tk':'ford',\n",
    "               'ford truck':'ford','hyundai tk':'hyundai','chev truck':'chevrolet','mazda tk':'mazda'}\n",
    "\n",
    "df['make'] = df['make'].replace(replacements)\n",
    "\n",
    "df['make'].unique()"
   ]
  },
  {
   "cell_type": "code",
   "execution_count": 355,
   "id": "871ac396-55c6-4d9c-ad99-4a97526c1c65",
   "metadata": {},
   "outputs": [],
   "source": [
    "#STEP-2 nan is pressent in column\n",
    "\n",
    "df['make'] = df['make'].fillna(method = 'ffill')"
   ]
  },
  {
   "cell_type": "code",
   "execution_count": 356,
   "id": "920f03e9-3c78-4c0e-a2df-ba8c59177679",
   "metadata": {},
   "outputs": [
    {
     "data": {
      "text/plain": [
       "make\n",
       "ford             95246\n",
       "chevrolet        62142\n",
       "nissan           54604\n",
       "toyota           40456\n",
       "dodge            31794\n",
       "honda            27809\n",
       "hyundai          21989\n",
       "bmw              21384\n",
       "kia              18325\n",
       "chrysler         17937\n",
       "mercedes-benz    17785\n",
       "jeep             16021\n",
       "infiniti         15423\n",
       "volkswagen       12808\n",
       "lexus            12446\n",
       "gmc              10775\n",
       "mazda             8676\n",
       "cadillac          7827\n",
       "lincoln           6016\n",
       "acura             6011\n",
       "audi              5951\n",
       "buick             5249\n",
       "subaru            5134\n",
       "pontiac           4613\n",
       "ram               4576\n",
       "mitsubishi        4399\n",
       "volvo             3873\n",
       "mini              3315\n",
       "saturn            2918\n",
       "mercury           2091\n",
       "land rover        1888\n",
       "scion             1695\n",
       "jaguar            1451\n",
       "porsche           1419\n",
       "suzuki            1098\n",
       "fiat               880\n",
       "hummer             857\n",
       "saab               493\n",
       "oldsmobile         401\n",
       "smart              399\n",
       "isuzu              219\n",
       "maserati           143\n",
       "bentley            118\n",
       "landrover           29\n",
       "plymouth            29\n",
       "aston martin        25\n",
       "tesla               23\n",
       "ferrari             19\n",
       "geo                 19\n",
       "rolls-royce         17\n",
       "fisker              10\n",
       "lamborghini          6\n",
       "daewoo               3\n",
       "airstream            1\n",
       "dot                  1\n",
       "lotus                1\n",
       "Name: count, dtype: int64"
      ]
     },
     "execution_count": 356,
     "metadata": {},
     "output_type": "execute_result"
    }
   ],
   "source": [
    "df.make.value_counts()"
   ]
  },
  {
   "cell_type": "code",
   "execution_count": 357,
   "id": "d8abfbbe-b010-43aa-beaa-a68c06c72427",
   "metadata": {},
   "outputs": [
    {
     "data": {
      "text/plain": [
       "make\n",
       "ford         95246\n",
       "chevrolet    62142\n",
       "nissan       54604\n",
       "toyota       40456\n",
       "dodge        31794\n",
       "Name: count, dtype: int64"
      ]
     },
     "execution_count": 357,
     "metadata": {},
     "output_type": "execute_result"
    }
   ],
   "source": [
    "df.make.value_counts().head(5)"
   ]
  },
  {
   "cell_type": "code",
   "execution_count": 358,
   "id": "cfb64417-08b8-431c-8641-c1d04d62ffe9",
   "metadata": {},
   "outputs": [
    {
     "data": {
      "image/png": "[encoded data removed]",
      "text/plain": [
       "<Figure size 640x480 with 1 Axes>"
      ]
     },
     "metadata": {},
     "output_type": "display_data"
    }
   ],
   "source": [
    "#STEP-3 Which vehicle brands/models are the top sellers overall (in terms of number of vehicles)?\n",
    "\n",
    "ax = sns.countplot(data = df, x = 'make', order = df.make.value_counts().head(5).index, palette = 'inferno')\n",
    "for bars in ax.containers:\n",
    "    ax.bar_label(bars)"
   ]
  },
  {
   "cell_type": "code",
   "execution_count": 359,
   "id": "f27582e3-85f8-4a9b-a085-8919576b3a04",
   "metadata": {},
   "outputs": [
    {
     "data": {
      "text/html": [
       "<div>\n",
       "<style scoped>\n",
       "    .dataframe tbody tr th:only-of-type {\n",
       "        vertical-align: middle;\n",
       "    }\n",
       "\n",
       "    .dataframe tbody tr th {\n",
       "        vertical-align: top;\n",
       "    }\n",
       "\n",
       "    .dataframe thead th {\n",
       "        text-align: right;\n",
       "    }\n",
       "</style>\n",
       "<table border=\"1\" class=\"dataframe\">\n",
       "  <thead>\n",
       "    <tr style=\"text-align: right;\">\n",
       "      <th></th>\n",
       "      <th>sellingprice</th>\n",
       "    </tr>\n",
       "    <tr>\n",
       "      <th>make</th>\n",
       "      <th></th>\n",
       "    </tr>\n",
       "  </thead>\n",
       "  <tbody>\n",
       "    <tr>\n",
       "      <th>acura</th>\n",
       "      <td>83808600</td>\n",
       "    </tr>\n",
       "    <tr>\n",
       "      <th>airstream</th>\n",
       "      <td>71000</td>\n",
       "    </tr>\n",
       "    <tr>\n",
       "      <th>aston martin</th>\n",
       "      <td>1370300</td>\n",
       "    </tr>\n",
       "    <tr>\n",
       "      <th>audi</th>\n",
       "      <td>117966049</td>\n",
       "    </tr>\n",
       "    <tr>\n",
       "      <th>bentley</th>\n",
       "      <td>8644250</td>\n",
       "    </tr>\n",
       "    <tr>\n",
       "      <th>bmw</th>\n",
       "      <td>462526113</td>\n",
       "    </tr>\n",
       "    <tr>\n",
       "      <th>buick</th>\n",
       "      <td>56117525</td>\n",
       "    </tr>\n",
       "    <tr>\n",
       "      <th>cadillac</th>\n",
       "      <td>116334746</td>\n",
       "    </tr>\n",
       "    <tr>\n",
       "      <th>chevrolet</th>\n",
       "      <td>733952774</td>\n",
       "    </tr>\n",
       "    <tr>\n",
       "      <th>chrysler</th>\n",
       "      <td>195533288</td>\n",
       "    </tr>\n",
       "    <tr>\n",
       "      <th>daewoo</th>\n",
       "      <td>1200</td>\n",
       "    </tr>\n",
       "    <tr>\n",
       "      <th>dodge</th>\n",
       "      <td>352549816</td>\n",
       "    </tr>\n",
       "    <tr>\n",
       "      <th>dot</th>\n",
       "      <td>500</td>\n",
       "    </tr>\n",
       "    <tr>\n",
       "      <th>ferrari</th>\n",
       "      <td>2417000</td>\n",
       "    </tr>\n",
       "    <tr>\n",
       "      <th>fiat</th>\n",
       "      <td>9200077</td>\n",
       "    </tr>\n",
       "    <tr>\n",
       "      <th>fisker</th>\n",
       "      <td>434900</td>\n",
       "    </tr>\n",
       "    <tr>\n",
       "      <th>ford</th>\n",
       "      <td>1370510898</td>\n",
       "    </tr>\n",
       "    <tr>\n",
       "      <th>geo</th>\n",
       "      <td>10050</td>\n",
       "    </tr>\n",
       "    <tr>\n",
       "      <th>gmc</th>\n",
       "      <td>180918220</td>\n",
       "    </tr>\n",
       "    <tr>\n",
       "      <th>honda</th>\n",
       "      <td>300156284</td>\n",
       "    </tr>\n",
       "    <tr>\n",
       "      <th>hummer</th>\n",
       "      <td>12687138</td>\n",
       "    </tr>\n",
       "    <tr>\n",
       "      <th>hyundai</th>\n",
       "      <td>241506891</td>\n",
       "    </tr>\n",
       "    <tr>\n",
       "      <th>infiniti</th>\n",
       "      <td>313548540</td>\n",
       "    </tr>\n",
       "    <tr>\n",
       "      <th>isuzu</th>\n",
       "      <td>372476</td>\n",
       "    </tr>\n",
       "    <tr>\n",
       "      <th>jaguar</th>\n",
       "      <td>28323226</td>\n",
       "    </tr>\n",
       "    <tr>\n",
       "      <th>jeep</th>\n",
       "      <td>237673163</td>\n",
       "    </tr>\n",
       "    <tr>\n",
       "      <th>kia</th>\n",
       "      <td>216942235</td>\n",
       "    </tr>\n",
       "    <tr>\n",
       "      <th>lamborghini</th>\n",
       "      <td>481500</td>\n",
       "    </tr>\n",
       "    <tr>\n",
       "      <th>land rover</th>\n",
       "      <td>59325855</td>\n",
       "    </tr>\n",
       "    <tr>\n",
       "      <th>landrover</th>\n",
       "      <td>344950</td>\n",
       "    </tr>\n",
       "    <tr>\n",
       "      <th>lexus</th>\n",
       "      <td>247099580</td>\n",
       "    </tr>\n",
       "    <tr>\n",
       "      <th>lincoln</th>\n",
       "      <td>100180565</td>\n",
       "    </tr>\n",
       "    <tr>\n",
       "      <th>lotus</th>\n",
       "      <td>40800</td>\n",
       "    </tr>\n",
       "    <tr>\n",
       "      <th>maserati</th>\n",
       "      <td>6172900</td>\n",
       "    </tr>\n",
       "    <tr>\n",
       "      <th>mazda</th>\n",
       "      <td>86699567</td>\n",
       "    </tr>\n",
       "    <tr>\n",
       "      <th>mercedes-benz</th>\n",
       "      <td>374910688</td>\n",
       "    </tr>\n",
       "    <tr>\n",
       "      <th>mercury</th>\n",
       "      <td>8312050</td>\n",
       "    </tr>\n",
       "    <tr>\n",
       "      <th>mini</th>\n",
       "      <td>40383050</td>\n",
       "    </tr>\n",
       "    <tr>\n",
       "      <th>mitsubishi</th>\n",
       "      <td>35896136</td>\n",
       "    </tr>\n",
       "    <tr>\n",
       "      <th>nissan</th>\n",
       "      <td>638363615</td>\n",
       "    </tr>\n",
       "    <tr>\n",
       "      <th>oldsmobile</th>\n",
       "      <td>424400</td>\n",
       "    </tr>\n",
       "    <tr>\n",
       "      <th>plymouth</th>\n",
       "      <td>197825</td>\n",
       "    </tr>\n",
       "    <tr>\n",
       "      <th>pontiac</th>\n",
       "      <td>17754551</td>\n",
       "    </tr>\n",
       "    <tr>\n",
       "      <th>porsche</th>\n",
       "      <td>56163801</td>\n",
       "    </tr>\n",
       "    <tr>\n",
       "      <th>ram</th>\n",
       "      <td>115742511</td>\n",
       "    </tr>\n",
       "    <tr>\n",
       "      <th>rolls-royce</th>\n",
       "      <td>2609300</td>\n",
       "    </tr>\n",
       "    <tr>\n",
       "      <th>saab</th>\n",
       "      <td>1778550</td>\n",
       "    </tr>\n",
       "    <tr>\n",
       "      <th>saturn</th>\n",
       "      <td>10331825</td>\n",
       "    </tr>\n",
       "    <tr>\n",
       "      <th>scion</th>\n",
       "      <td>16209450</td>\n",
       "    </tr>\n",
       "    <tr>\n",
       "      <th>smart</th>\n",
       "      <td>2523600</td>\n",
       "    </tr>\n",
       "    <tr>\n",
       "      <th>subaru</th>\n",
       "      <td>77970611</td>\n",
       "    </tr>\n",
       "    <tr>\n",
       "      <th>suzuki</th>\n",
       "      <td>4402120</td>\n",
       "    </tr>\n",
       "    <tr>\n",
       "      <th>tesla</th>\n",
       "      <td>1542250</td>\n",
       "    </tr>\n",
       "    <tr>\n",
       "      <th>toyota</th>\n",
       "      <td>492625449</td>\n",
       "    </tr>\n",
       "    <tr>\n",
       "      <th>volkswagen</th>\n",
       "      <td>120446634</td>\n",
       "    </tr>\n",
       "    <tr>\n",
       "      <th>volvo</th>\n",
       "      <td>44019527</td>\n",
       "    </tr>\n",
       "  </tbody>\n",
       "</table>\n",
       "</div>"
      ],
      "text/plain": [
       "               sellingprice\n",
       "make                       \n",
       "acura              83808600\n",
       "airstream             71000\n",
       "aston martin        1370300\n",
       "audi              117966049\n",
       "bentley             8644250\n",
       "bmw               462526113\n",
       "buick              56117525\n",
       "cadillac          116334746\n",
       "chevrolet         733952774\n",
       "chrysler          195533288\n",
       "daewoo                 1200\n",
       "dodge             352549816\n",
       "dot                     500\n",
       "ferrari             2417000\n",
       "fiat                9200077\n",
       "fisker               434900\n",
       "ford             1370510898\n",
       "geo                   10050\n",
       "gmc               180918220\n",
       "honda             300156284\n",
       "hummer             12687138\n",
       "hyundai           241506891\n",
       "infiniti          313548540\n",
       "isuzu                372476\n",
       "jaguar             28323226\n",
       "jeep              237673163\n",
       "kia               216942235\n",
       "lamborghini          481500\n",
       "land rover         59325855\n",
       "landrover            344950\n",
       "lexus             247099580\n",
       "lincoln           100180565\n",
       "lotus                 40800\n",
       "maserati            6172900\n",
       "mazda              86699567\n",
       "mercedes-benz     374910688\n",
       "mercury             8312050\n",
       "mini               40383050\n",
       "mitsubishi         35896136\n",
       "nissan            638363615\n",
       "oldsmobile           424400\n",
       "plymouth             197825\n",
       "pontiac            17754551\n",
       "porsche            56163801\n",
       "ram               115742511\n",
       "rolls-royce         2609300\n",
       "saab                1778550\n",
       "saturn             10331825\n",
       "scion              16209450\n",
       "smart               2523600\n",
       "subaru             77970611\n",
       "suzuki              4402120\n",
       "tesla               1542250\n",
       "toyota            492625449\n",
       "volkswagen        120446634\n",
       "volvo              44019527"
      ]
     },
     "execution_count": 359,
     "metadata": {},
     "output_type": "execute_result"
    }
   ],
   "source": [
    "#STEP-4 Which vehicle brands/models are the top sellers overall (in terms of total selling price of vehicles) ?\n",
    "\n",
    "a=df.groupby('make').agg({'sellingprice':'sum'})\n",
    "a"
   ]
  },
  {
   "cell_type": "code",
   "execution_count": 360,
   "id": "32bc3ad2-e195-4b03-b69a-7d7f547aabb2",
   "metadata": {},
   "outputs": [
    {
     "data": {
      "text/html": [
       "<div>\n",
       "<style scoped>\n",
       "    .dataframe tbody tr th:only-of-type {\n",
       "        vertical-align: middle;\n",
       "    }\n",
       "\n",
       "    .dataframe tbody tr th {\n",
       "        vertical-align: top;\n",
       "    }\n",
       "\n",
       "    .dataframe thead th {\n",
       "        text-align: right;\n",
       "    }\n",
       "</style>\n",
       "<table border=\"1\" class=\"dataframe\">\n",
       "  <thead>\n",
       "    <tr style=\"text-align: right;\">\n",
       "      <th></th>\n",
       "      <th>sellingprice</th>\n",
       "    </tr>\n",
       "    <tr>\n",
       "      <th>make</th>\n",
       "      <th></th>\n",
       "    </tr>\n",
       "  </thead>\n",
       "  <tbody>\n",
       "    <tr>\n",
       "      <th>ford</th>\n",
       "      <td>1370510898</td>\n",
       "    </tr>\n",
       "    <tr>\n",
       "      <th>chevrolet</th>\n",
       "      <td>733952774</td>\n",
       "    </tr>\n",
       "    <tr>\n",
       "      <th>nissan</th>\n",
       "      <td>638363615</td>\n",
       "    </tr>\n",
       "    <tr>\n",
       "      <th>toyota</th>\n",
       "      <td>492625449</td>\n",
       "    </tr>\n",
       "    <tr>\n",
       "      <th>bmw</th>\n",
       "      <td>462526113</td>\n",
       "    </tr>\n",
       "    <tr>\n",
       "      <th>mercedes-benz</th>\n",
       "      <td>374910688</td>\n",
       "    </tr>\n",
       "  </tbody>\n",
       "</table>\n",
       "</div>"
      ],
      "text/plain": [
       "               sellingprice\n",
       "make                       \n",
       "ford             1370510898\n",
       "chevrolet         733952774\n",
       "nissan            638363615\n",
       "toyota            492625449\n",
       "bmw               462526113\n",
       "mercedes-benz     374910688"
      ]
     },
     "execution_count": 360,
     "metadata": {},
     "output_type": "execute_result"
    }
   ],
   "source": [
    "b = a.sort_values(by = 'sellingprice', ascending = False).head(6)\n",
    "b"
   ]
  },
  {
   "cell_type": "code",
   "execution_count": 361,
   "id": "fc9ca484-b097-4a1d-85d8-175c60b33bfa",
   "metadata": {},
   "outputs": [
    {
     "data": {
      "image/png": "[encoded data removed]",
      "text/plain": [
       "<Figure size 640x480 with 1 Axes>"
      ]
     },
     "metadata": {},
     "output_type": "display_data"
    }
   ],
   "source": [
    "sns.barplot(data = b, x = b.index, y = 'sellingprice', palette = 'inferno')\n",
    "sns.set_style('darkgrid')\n",
    "plt.show()"
   ]
  },
  {
   "cell_type": "markdown",
   "id": "08af38d8-ff4a-4a46-bbff-11ef8fe87240",
   "metadata": {},
   "source": [
    "**\"1e9\" on y-axis means 1 x 10^9 i.e 1 Billion**"
   ]
  },
  {
   "cell_type": "markdown",
   "id": "664ed66b-92da-472a-be0d-82dc90f38179",
   "metadata": {},
   "source": [
    "**Que-3▪ Is there a seasonal pattern in vehicle sales?**"
   ]
  },
  {
   "cell_type": "code",
   "execution_count": 368,
   "id": "63545a12-2c1f-497e-9caf-7a5833a5342a",
   "metadata": {},
   "outputs": [
    {
     "data": {
      "text/plain": [
       "Text(0.5, 1.0, 'Selling Price Trend Over Months')"
      ]
     },
     "execution_count": 368,
     "metadata": {},
     "output_type": "execute_result"
    },
    {
     "data": {
      "image/png": "[encoded data removed]",
      "text/plain": [
       "<Figure size 640x480 with 1 Axes>"
      ]
     },
     "metadata": {},
     "output_type": "display_data"
    }
   ],
   "source": [
    "sns.lineplot(data=df,x='salemonth',y='sellingprice', marker = 'd', color = 'blue')\n",
    "\n",
    "plt.title('Selling Price Trend Over Months')"
   ]
  },
  {
   "cell_type": "markdown",
   "id": "811365b0-a056-4fbc-8f23-fc014242f454",
   "metadata": {},
   "source": [
    "#### Highest car sales took place in month of JULY & Lowest car sales took place in month of APRIL. ####"
   ]
  },
  {
   "cell_type": "markdown",
   "id": "9f055798-e42c-427c-9cf0-f3165ee0e3c6",
   "metadata": {},
   "source": [
    "**Que-4. What is the average selling price of vehicles in the dataset based on models/brands?**"
   ]
  },
  {
   "cell_type": "code",
   "execution_count": 369,
   "id": "02fe03c0-49b2-4846-b5b3-f94fe56632a7",
   "metadata": {},
   "outputs": [
    {
     "data": {
      "text/html": [
       "<div>\n",
       "<style scoped>\n",
       "    .dataframe tbody tr th:only-of-type {\n",
       "        vertical-align: middle;\n",
       "    }\n",
       "\n",
       "    .dataframe tbody tr th {\n",
       "        vertical-align: top;\n",
       "    }\n",
       "\n",
       "    .dataframe thead th {\n",
       "        text-align: right;\n",
       "    }\n",
       "</style>\n",
       "<table border=\"1\" class=\"dataframe\">\n",
       "  <thead>\n",
       "    <tr style=\"text-align: right;\">\n",
       "      <th></th>\n",
       "      <th>sellingprice</th>\n",
       "    </tr>\n",
       "    <tr>\n",
       "      <th>make</th>\n",
       "      <th></th>\n",
       "    </tr>\n",
       "  </thead>\n",
       "  <tbody>\n",
       "    <tr>\n",
       "      <th>acura</th>\n",
       "      <td>13942.538679</td>\n",
       "    </tr>\n",
       "    <tr>\n",
       "      <th>airstream</th>\n",
       "      <td>71000.000000</td>\n",
       "    </tr>\n",
       "    <tr>\n",
       "      <th>aston martin</th>\n",
       "      <td>54812.000000</td>\n",
       "    </tr>\n",
       "    <tr>\n",
       "      <th>audi</th>\n",
       "      <td>19822.895144</td>\n",
       "    </tr>\n",
       "    <tr>\n",
       "      <th>bentley</th>\n",
       "      <td>73256.355932</td>\n",
       "    </tr>\n",
       "    <tr>\n",
       "      <th>bmw</th>\n",
       "      <td>21629.541386</td>\n",
       "    </tr>\n",
       "    <tr>\n",
       "      <th>buick</th>\n",
       "      <td>10691.088779</td>\n",
       "    </tr>\n",
       "    <tr>\n",
       "      <th>cadillac</th>\n",
       "      <td>14863.261275</td>\n",
       "    </tr>\n",
       "    <tr>\n",
       "      <th>chevrolet</th>\n",
       "      <td>11810.897203</td>\n",
       "    </tr>\n",
       "    <tr>\n",
       "      <th>chrysler</th>\n",
       "      <td>10901.114345</td>\n",
       "    </tr>\n",
       "    <tr>\n",
       "      <th>daewoo</th>\n",
       "      <td>400.000000</td>\n",
       "    </tr>\n",
       "    <tr>\n",
       "      <th>dodge</th>\n",
       "      <td>11088.564383</td>\n",
       "    </tr>\n",
       "    <tr>\n",
       "      <th>dot</th>\n",
       "      <td>500.000000</td>\n",
       "    </tr>\n",
       "    <tr>\n",
       "      <th>ferrari</th>\n",
       "      <td>127210.526316</td>\n",
       "    </tr>\n",
       "    <tr>\n",
       "      <th>fiat</th>\n",
       "      <td>10454.632955</td>\n",
       "    </tr>\n",
       "    <tr>\n",
       "      <th>fisker</th>\n",
       "      <td>43490.000000</td>\n",
       "    </tr>\n",
       "    <tr>\n",
       "      <th>ford</th>\n",
       "      <td>14389.170128</td>\n",
       "    </tr>\n",
       "    <tr>\n",
       "      <th>geo</th>\n",
       "      <td>528.947368</td>\n",
       "    </tr>\n",
       "    <tr>\n",
       "      <th>gmc</th>\n",
       "      <td>16790.554060</td>\n",
       "    </tr>\n",
       "    <tr>\n",
       "      <th>honda</th>\n",
       "      <td>10793.494336</td>\n",
       "    </tr>\n",
       "    <tr>\n",
       "      <th>hummer</th>\n",
       "      <td>14804.128355</td>\n",
       "    </tr>\n",
       "    <tr>\n",
       "      <th>hyundai</th>\n",
       "      <td>10983.077493</td>\n",
       "    </tr>\n",
       "    <tr>\n",
       "      <th>infiniti</th>\n",
       "      <td>20329.931920</td>\n",
       "    </tr>\n",
       "    <tr>\n",
       "      <th>isuzu</th>\n",
       "      <td>1700.803653</td>\n",
       "    </tr>\n",
       "    <tr>\n",
       "      <th>jaguar</th>\n",
       "      <td>19519.797381</td>\n",
       "    </tr>\n",
       "    <tr>\n",
       "      <th>jeep</th>\n",
       "      <td>14835.101617</td>\n",
       "    </tr>\n",
       "    <tr>\n",
       "      <th>kia</th>\n",
       "      <td>11838.593997</td>\n",
       "    </tr>\n",
       "    <tr>\n",
       "      <th>lamborghini</th>\n",
       "      <td>80250.000000</td>\n",
       "    </tr>\n",
       "    <tr>\n",
       "      <th>land rover</th>\n",
       "      <td>31422.592691</td>\n",
       "    </tr>\n",
       "    <tr>\n",
       "      <th>landrover</th>\n",
       "      <td>11894.827586</td>\n",
       "    </tr>\n",
       "    <tr>\n",
       "      <th>lexus</th>\n",
       "      <td>19853.734533</td>\n",
       "    </tr>\n",
       "    <tr>\n",
       "      <th>lincoln</th>\n",
       "      <td>16652.354555</td>\n",
       "    </tr>\n",
       "    <tr>\n",
       "      <th>lotus</th>\n",
       "      <td>40800.000000</td>\n",
       "    </tr>\n",
       "    <tr>\n",
       "      <th>maserati</th>\n",
       "      <td>43167.132867</td>\n",
       "    </tr>\n",
       "    <tr>\n",
       "      <th>mazda</th>\n",
       "      <td>9993.034463</td>\n",
       "    </tr>\n",
       "    <tr>\n",
       "      <th>mercedes-benz</th>\n",
       "      <td>21080.162384</td>\n",
       "    </tr>\n",
       "    <tr>\n",
       "      <th>mercury</th>\n",
       "      <td>3975.155428</td>\n",
       "    </tr>\n",
       "    <tr>\n",
       "      <th>mini</th>\n",
       "      <td>12181.915535</td>\n",
       "    </tr>\n",
       "    <tr>\n",
       "      <th>mitsubishi</th>\n",
       "      <td>8160.067288</td>\n",
       "    </tr>\n",
       "    <tr>\n",
       "      <th>nissan</th>\n",
       "      <td>11690.784833</td>\n",
       "    </tr>\n",
       "    <tr>\n",
       "      <th>oldsmobile</th>\n",
       "      <td>1058.354115</td>\n",
       "    </tr>\n",
       "    <tr>\n",
       "      <th>plymouth</th>\n",
       "      <td>6821.551724</td>\n",
       "    </tr>\n",
       "    <tr>\n",
       "      <th>pontiac</th>\n",
       "      <td>3848.807934</td>\n",
       "    </tr>\n",
       "    <tr>\n",
       "      <th>porsche</th>\n",
       "      <td>39579.845666</td>\n",
       "    </tr>\n",
       "    <tr>\n",
       "      <th>ram</th>\n",
       "      <td>25293.380900</td>\n",
       "    </tr>\n",
       "    <tr>\n",
       "      <th>rolls-royce</th>\n",
       "      <td>153488.235294</td>\n",
       "    </tr>\n",
       "    <tr>\n",
       "      <th>saab</th>\n",
       "      <td>3607.606491</td>\n",
       "    </tr>\n",
       "    <tr>\n",
       "      <th>saturn</th>\n",
       "      <td>3540.721385</td>\n",
       "    </tr>\n",
       "    <tr>\n",
       "      <th>scion</th>\n",
       "      <td>9563.097345</td>\n",
       "    </tr>\n",
       "    <tr>\n",
       "      <th>smart</th>\n",
       "      <td>6324.812030</td>\n",
       "    </tr>\n",
       "    <tr>\n",
       "      <th>subaru</th>\n",
       "      <td>15187.107713</td>\n",
       "    </tr>\n",
       "    <tr>\n",
       "      <th>suzuki</th>\n",
       "      <td>4009.216758</td>\n",
       "    </tr>\n",
       "    <tr>\n",
       "      <th>tesla</th>\n",
       "      <td>67054.347826</td>\n",
       "    </tr>\n",
       "    <tr>\n",
       "      <th>toyota</th>\n",
       "      <td>12176.820472</td>\n",
       "    </tr>\n",
       "    <tr>\n",
       "      <th>volkswagen</th>\n",
       "      <td>9404.015771</td>\n",
       "    </tr>\n",
       "    <tr>\n",
       "      <th>volvo</th>\n",
       "      <td>11365.744126</td>\n",
       "    </tr>\n",
       "  </tbody>\n",
       "</table>\n",
       "</div>"
      ],
      "text/plain": [
       "                sellingprice\n",
       "make                        \n",
       "acura           13942.538679\n",
       "airstream       71000.000000\n",
       "aston martin    54812.000000\n",
       "audi            19822.895144\n",
       "bentley         73256.355932\n",
       "bmw             21629.541386\n",
       "buick           10691.088779\n",
       "cadillac        14863.261275\n",
       "chevrolet       11810.897203\n",
       "chrysler        10901.114345\n",
       "daewoo            400.000000\n",
       "dodge           11088.564383\n",
       "dot               500.000000\n",
       "ferrari        127210.526316\n",
       "fiat            10454.632955\n",
       "fisker          43490.000000\n",
       "ford            14389.170128\n",
       "geo               528.947368\n",
       "gmc             16790.554060\n",
       "honda           10793.494336\n",
       "hummer          14804.128355\n",
       "hyundai         10983.077493\n",
       "infiniti        20329.931920\n",
       "isuzu            1700.803653\n",
       "jaguar          19519.797381\n",
       "jeep            14835.101617\n",
       "kia             11838.593997\n",
       "lamborghini     80250.000000\n",
       "land rover      31422.592691\n",
       "landrover       11894.827586\n",
       "lexus           19853.734533\n",
       "lincoln         16652.354555\n",
       "lotus           40800.000000\n",
       "maserati        43167.132867\n",
       "mazda            9993.034463\n",
       "mercedes-benz   21080.162384\n",
       "mercury          3975.155428\n",
       "mini            12181.915535\n",
       "mitsubishi       8160.067288\n",
       "nissan          11690.784833\n",
       "oldsmobile       1058.354115\n",
       "plymouth         6821.551724\n",
       "pontiac          3848.807934\n",
       "porsche         39579.845666\n",
       "ram             25293.380900\n",
       "rolls-royce    153488.235294\n",
       "saab             3607.606491\n",
       "saturn           3540.721385\n",
       "scion            9563.097345\n",
       "smart            6324.812030\n",
       "subaru          15187.107713\n",
       "suzuki           4009.216758\n",
       "tesla           67054.347826\n",
       "toyota          12176.820472\n",
       "volkswagen       9404.015771\n",
       "volvo           11365.744126"
      ]
     },
     "execution_count": 369,
     "metadata": {},
     "output_type": "execute_result"
    }
   ],
   "source": [
    "df.groupby('make').agg({'sellingprice':'mean'})"
   ]
  },
  {
   "cell_type": "markdown",
   "id": "59babc42-9978-4010-8280-29763bbb05a0",
   "metadata": {},
   "source": [
    "**Que-5. How does the sales performance vary across different regions/countries?**"
   ]
  },
  {
   "cell_type": "code",
   "execution_count": 370,
   "id": "fb4ef2d8-6a65-44f8-a20c-499c12539465",
   "metadata": {},
   "outputs": [
    {
     "data": {
      "text/plain": [
       "array(['ca', 'tx', 'pa', 'mn', 'az', 'wi', 'tn', 'md', 'fl', 'ne', 'nj',\n",
       "       'nv', 'oh', 'mi', 'ga', 'va', 'sc', 'nc', 'in', 'il', 'co', 'ut',\n",
       "       'mo', 'ny', 'ma', 'pr', 'or', 'la', 'wa', 'hi', 'qc', 'ab', 'on',\n",
       "       'ok', 'ms', 'nm', 'al', '3vwd17aj4fm201708', 'ns',\n",
       "       '3vwd17aj2fm258506', '3vwd17aj3fm276741', '3vwd17aj2fm285365',\n",
       "       '3vwd17aj0fm227318', '3vwd17aj6fm218641', '3vwd17aj7fm223475',\n",
       "       '3vwd17aj5fm297123', '3vwd17aj5fm219943', '3vwd17aj9fm219766',\n",
       "       '3vwd17aj3fm259017', '3vwd17aj5fm206111', '3vwd17aj5fm273601',\n",
       "       '3vwd17aj5fm221322', '3vwd17aj5fm268964', '3vwd17aj6fm231972',\n",
       "       '3vwd17aj7fm222388', '3vwd17aj7fm218440', '3vwd17ajxfm315938',\n",
       "       '3vwd17aj7fm229552', '3vwd17aj8fm298895', '3vwd17aj4fm236636',\n",
       "       '3vwd17aj5fm225953', '3vwd17aj7fm326640', '3vwd17aj8fm239622',\n",
       "       '3vwd17aj2fm261566'], dtype=object)"
      ]
     },
     "execution_count": 370,
     "metadata": {},
     "output_type": "execute_result"
    }
   ],
   "source": [
    "df.state.unique()"
   ]
  },
  {
   "cell_type": "code",
   "execution_count": 371,
   "id": "d75b0818-5432-447e-9c09-d3be7c7b98a6",
   "metadata": {},
   "outputs": [
    {
     "data": {
      "text/plain": [
       "state\n",
       "fl    82945\n",
       "ca    73148\n",
       "pa    53907\n",
       "tx    45913\n",
       "ga    34750\n",
       "nj    27784\n",
       "il    23486\n",
       "nc    21845\n",
       "oh    21575\n",
       "tn    20895\n",
       "mo    16013\n",
       "mi    15511\n",
       "nv    12685\n",
       "va    12027\n",
       "md    11158\n",
       "wi     9851\n",
       "mn     9429\n",
       "az     8741\n",
       "co     7775\n",
       "wa     7416\n",
       "ma     6729\n",
       "ny     5699\n",
       "in     4325\n",
       "sc     4251\n",
       "ne     4013\n",
       "on     3442\n",
       "pr     2725\n",
       "la     2191\n",
       "ms     1851\n",
       "ut     1836\n",
       "qc     1245\n",
       "hi     1237\n",
       "or     1155\n",
       "ab      928\n",
       "nm      171\n",
       "ok       72\n",
       "ns       61\n",
       "al       26\n",
       "Name: count, dtype: int64"
      ]
     },
     "execution_count": 371,
     "metadata": {},
     "output_type": "execute_result"
    }
   ],
   "source": [
    "df.state.value_counts().head(38)"
   ]
  },
  {
   "cell_type": "code",
   "execution_count": 372,
   "id": "27137e33-3f78-4b7a-9783-e13d21eb524b",
   "metadata": {},
   "outputs": [
    {
     "data": {
      "text/plain": [
       "558811"
      ]
     },
     "execution_count": 372,
     "metadata": {},
     "output_type": "execute_result"
    }
   ],
   "source": [
    "df.state.value_counts().head(38).sum()"
   ]
  },
  {
   "cell_type": "markdown",
   "id": "549b5d11-5a89-4f24-8975-888ed40b0824",
   "metadata": {},
   "source": [
    "**_There are 26 inappropriate values for states, whereas there are 558811 genuine values for 38 states._**"
   ]
  },
  {
   "cell_type": "code",
   "execution_count": 373,
   "id": "2606d581-ad29-4097-a412-355ef6cb7268",
   "metadata": {},
   "outputs": [
    {
     "data": {
      "image/png": "[encoded data removed]",
      "text/plain": [
       "<Figure size 640x480 with 1 Axes>"
      ]
     },
     "metadata": {},
     "output_type": "display_data"
    }
   ],
   "source": [
    "ax = sns.countplot(data = df, x = 'state', order = df.state.value_counts().head(5).index, palette = 'plasma')\n",
    "for bars in ax.containers:\n",
    "    ax.bar_label(bars)"
   ]
  },
  {
   "cell_type": "markdown",
   "id": "37d1b40c-cd31-4593-8602-623970f9f201",
   "metadata": {},
   "source": [
    "#### Highest sales took place from Florida and second highest sales took place from California. ####"
   ]
  },
  {
   "cell_type": "markdown",
   "id": "26578d42-e1e2-4b6b-8833-8439960b557c",
   "metadata": {},
   "source": [
    "##### Que6▪ What are the most popular types of vehicles (sedans, SUVs, trucks, etc.) in terms of sales volume? #####"
   ]
  },
  {
   "cell_type": "code",
   "execution_count": 374,
   "id": "c5ae2262-0234-4bfa-996d-b08e6f9fb6da",
   "metadata": {},
   "outputs": [
    {
     "data": {
      "text/plain": [
       "array(['SUV', 'Sedan', 'Convertible', 'Coupe', 'Wagon', 'Hatchback',\n",
       "       'Crew Cab', 'G Coupe', 'G Sedan', 'Elantra Coupe', 'Genesis Coupe',\n",
       "       'Minivan', 'Van', 'Double Cab', 'CrewMax Cab', 'Access Cab',\n",
       "       'King Cab', 'SuperCrew', 'CTS Coupe', 'Extended Cab',\n",
       "       'E-Series Van', 'SuperCab', 'Regular Cab', 'G Convertible', 'Koup',\n",
       "       'Quad Cab', 'CTS-V Coupe', 'sedan', 'G37 Convertible', 'Club Cab',\n",
       "       'Xtracab', 'Q60 Convertible', 'CTS Wagon', 'convertible',\n",
       "       'G37 Coupe', 'Mega Cab', 'Cab Plus 4', 'Q60 Coupe', 'Cab Plus',\n",
       "       'Beetle Convertible', 'TSX Sport Wagon', 'Promaster Cargo Van',\n",
       "       'GranTurismo Convertible', 'CTS-V Wagon', 'Ram Van', 'minivan',\n",
       "       'suv', 'Transit Van', 'Navitgation', 'van', 'regular-cab',\n",
       "       'g sedan', 'g coupe', 'hatchback', 'king cab', 'supercrew',\n",
       "       'g convertible', 'coupe', 'crew cab', 'wagon', 'double cab',\n",
       "       'e-series van', 'regular cab', 'quad cab', 'g37 convertible',\n",
       "       'supercab', 'extended cab', 'crewmax cab', 'genesis coupe',\n",
       "       'access cab', 'mega cab', 'xtracab', 'beetle convertible',\n",
       "       'cts coupe', 'koup', 'club cab', 'elantra coupe', 'q60 coupe',\n",
       "       'cts-v coupe', 'transit van', 'granturismo convertible',\n",
       "       'tsx sport wagon', 'promaster cargo van', 'q60 convertible',\n",
       "       'g37 coupe', 'cab plus 4', 'cts wagon'], dtype=object)"
      ]
     },
     "execution_count": 374,
     "metadata": {},
     "output_type": "execute_result"
    }
   ],
   "source": [
    "#STEP-1 checking names in 'body' column\n",
    "df.body.unique()"
   ]
  },
  {
   "cell_type": "code",
   "execution_count": 375,
   "id": "3a3cace4-222e-453b-b248-9e27e3fb4edf",
   "metadata": {},
   "outputs": [
    {
     "data": {
      "text/plain": [
       "87"
      ]
     },
     "execution_count": 375,
     "metadata": {},
     "output_type": "execute_result"
    }
   ],
   "source": [
    "df.body.nunique()"
   ]
  },
  {
   "cell_type": "code",
   "execution_count": 376,
   "id": "bb3fecfa-dc2e-4e8f-a157-a94349331392",
   "metadata": {},
   "outputs": [
    {
     "data": {
      "text/plain": [
       "array(['suv', 'sedan', 'convertible', 'coupe', 'wagon', 'hatchback',\n",
       "       'crew cab', 'g coupe', 'g sedan', 'elantra coupe', 'genesis coupe',\n",
       "       'minivan', 'van', 'double cab', 'crewmax cab', 'access cab',\n",
       "       'king cab', 'supercrew', 'cts coupe', 'extended cab',\n",
       "       'e-series van', 'supercab', 'regular cab', 'g convertible', 'koup',\n",
       "       'quad cab', 'cts-v coupe', 'g37 convertible', 'club cab',\n",
       "       'xtracab', 'q60 convertible', 'cts wagon', 'g37 coupe', 'mega cab',\n",
       "       'cab plus 4', 'q60 coupe', 'cab plus', 'beetle convertible',\n",
       "       'tsx sport wagon', 'promaster cargo van',\n",
       "       'granturismo convertible', 'cts-v wagon', 'ram van', 'transit van',\n",
       "       'navitgation', 'regular-cab'], dtype=object)"
      ]
     },
     "execution_count": 376,
     "metadata": {},
     "output_type": "execute_result"
    }
   ],
   "source": [
    "df.body = df.body.str.lower()\n",
    "df.body.unique()"
   ]
  },
  {
   "cell_type": "code",
   "execution_count": 377,
   "id": "2a8747d3-3136-4b1f-8bcb-594ed2420191",
   "metadata": {},
   "outputs": [
    {
     "data": {
      "text/plain": [
       "46"
      ]
     },
     "execution_count": 377,
     "metadata": {},
     "output_type": "execute_result"
    }
   ],
   "source": [
    "df.body.nunique()"
   ]
  },
  {
   "cell_type": "code",
   "execution_count": 378,
   "id": "4b7d468e-a9ba-44d4-ad3f-e81b64f1267f",
   "metadata": {},
   "outputs": [],
   "source": [
    "replacements = {'crew cab':'cab','g coupe':'coupe','g sedan':'sedan','elantra coupe':'coupe','genesis coupe':'coupe','minivan':'van','double cab':'cab',\n",
    "               'crewmax cab':'cab','access cab':'cab','king cab':'cab','cts coupe':'coupe','extended cab':'cab','e-series van':'van','supercab':'cab',\n",
    "               'regular cab':'cab','g convertible':'convertible','koup':'coupe','quad cab':'cab','cts-v coupe':'coupe','g37 convertible':'convertible',\n",
    "               'cts wagon':'wagon','g37 coupe':'coupe','mega cab':'cab','cab plus 4':'cab','q60 coupe':'coupe','cab plus':'cab',\n",
    "                'beetle convertible':'convertible','tsx sport wagon':'wagon','promaster cargo van':'van','granturismo convertible':'convertible',\n",
    "                'cts-v wagon':'wagon','ram van':'van','transit van':'van','regular-cab':'cab','q60 convertible':'convertible','xtracab':'cab',\n",
    "                'club cab':'cab','supercrew':'cab'}\n",
    "df.body = df.body.replace(replacements)"
   ]
  },
  {
   "cell_type": "code",
   "execution_count": 379,
   "id": "1bfbfbca-3049-42a9-8781-b07b734feccc",
   "metadata": {},
   "outputs": [
    {
     "data": {
      "text/plain": [
       "array(['suv', 'sedan', 'convertible', 'coupe', 'wagon', 'hatchback',\n",
       "       'cab', 'van', 'navitgation'], dtype=object)"
      ]
     },
     "execution_count": 379,
     "metadata": {},
     "output_type": "execute_result"
    }
   ],
   "source": [
    "df.body.unique()"
   ]
  },
  {
   "cell_type": "code",
   "execution_count": 380,
   "id": "34a61201-072e-4927-86c7-14a494a71c29",
   "metadata": {},
   "outputs": [
    {
     "data": {
      "text/plain": [
       "body\n",
       "sedan          254014\n",
       "suv            147754\n",
       "cab             48991\n",
       "van             32744\n",
       "hatchback       26609\n",
       "coupe           20754\n",
       "wagon           16553\n",
       "convertible     11392\n",
       "navitgation        26\n",
       "Name: count, dtype: int64"
      ]
     },
     "execution_count": 380,
     "metadata": {},
     "output_type": "execute_result"
    }
   ],
   "source": [
    "df.body.value_counts()"
   ]
  },
  {
   "cell_type": "code",
   "execution_count": 381,
   "id": "64f5856b-81d7-4498-9b80-c970ae5cae5e",
   "metadata": {},
   "outputs": [
    {
     "data": {
      "text/plain": [
       "(array([0, 1, 2, 3, 4, 5, 6, 7]),\n",
       " [Text(0, 0, 'sedan'),\n",
       "  Text(1, 0, 'suv'),\n",
       "  Text(2, 0, 'cab'),\n",
       "  Text(3, 0, 'van'),\n",
       "  Text(4, 0, 'hatchback'),\n",
       "  Text(5, 0, 'coupe'),\n",
       "  Text(6, 0, 'wagon'),\n",
       "  Text(7, 0, 'convertible')])"
      ]
     },
     "execution_count": 381,
     "metadata": {},
     "output_type": "execute_result"
    },
    {
     "data": {
      "image/png": "[encoded data removed]",
      "text/plain": [
       "<Figure size 640x480 with 1 Axes>"
      ]
     },
     "metadata": {},
     "output_type": "display_data"
    }
   ],
   "source": [
    "ax = sns.countplot(data = df , x= 'body' , order = df.body.value_counts().head(8).index,palette = 'magma')\n",
    "for bars in ax.containers:\n",
    "    ax.bar_label(bars)\n",
    "sns.set_style('darkgrid')\n",
    "plt.xticks(rotation = 45)"
   ]
  },
  {
   "cell_type": "markdown",
   "id": "7c838e59-a446-4fe7-94a4-b5df77e8119f",
   "metadata": {},
   "source": [
    "### Sedan and SUV are the 2 most sold cars body types. ###"
   ]
  },
  {
   "cell_type": "markdown",
   "id": "bcfbf747-8a35-4f84-84cf-f8da45d9426f",
   "metadata": {},
   "source": [
    "#### Que-7.How does the odometer reading affect the selling price of vehicles? ####"
   ]
  },
  {
   "cell_type": "code",
   "execution_count": 382,
   "id": "42922e8b-ecc6-417e-84d7-d76759166eb7",
   "metadata": {},
   "outputs": [
    {
     "data": {
      "text/plain": [
       "-0.582322001289398"
      ]
     },
     "execution_count": 382,
     "metadata": {},
     "output_type": "execute_result"
    }
   ],
   "source": [
    "a = df['odometer'].corr(df['sellingprice'])\n",
    "a"
   ]
  },
  {
   "cell_type": "markdown",
   "id": "848c41d5-c2d5-4abd-ba16-7bab6b7fd41c",
   "metadata": {},
   "source": [
    "##### 1. The negative sign indicates the direction of the correlation. When one variable increases, the other tends to decrease. ##### \n",
    "##### 2. In this case, as the odometer reading increases, the selling price tends to decrease. #####"
   ]
  },
  {
   "cell_type": "markdown",
   "id": "d1253e2a-811a-4ee2-9db5-5df445129991",
   "metadata": {},
   "source": [
    "#### Que-8  How does the Manheim Market Report (MMR) value correlate with the actual selling price of vehicles? ####"
   ]
  },
  {
   "cell_type": "code",
   "execution_count": 383,
   "id": "47d82ea8-f855-4d89-ae03-bf4279bb97ba",
   "metadata": {},
   "outputs": [
    {
     "data": {
      "text/plain": [
       "0.9836347279159638"
      ]
     },
     "execution_count": 383,
     "metadata": {},
     "output_type": "execute_result"
    }
   ],
   "source": [
    "b= df.mmr.corr(df.sellingprice)\n",
    "b"
   ]
  },
  {
   "cell_type": "markdown",
   "id": "69e95e93-8cf3-4b4a-ba6b-7f7771e7a228",
   "metadata": {},
   "source": [
    "##### Since correlation coefficient is very close to 1, we can infer that there is a very strong positive relationship between the Manheim Market Report (MMR) value and the actual selling price of vehicles in the dataset. This suggests that the MMR value is a highly reliable predictor of the actual selling price. #####"
   ]
  },
  {
   "cell_type": "code",
   "execution_count": 324,
   "id": "8b58036b-97ff-46bc-ab1b-a3d74dc6073f",
   "metadata": {},
   "outputs": [
    {
     "data": {
      "image/png": "[encoded data removed]",
      "text/plain": [
       "<Figure size 640x480 with 1 Axes>"
      ]
     },
     "metadata": {},
     "output_type": "display_data"
    }
   ],
   "source": [
    "sns.scatterplot(data = df,x = 'mmr', y = 'sellingprice', palette = 'plasma', hue = 'body')\n",
    "\n",
    "plt.title('Relationship between MMR value and actual selling price')\n",
    "plt.legend(bbox_to_anchor = (1,1,0,0))\n",
    "plt.show()"
   ]
  }
 ],
 "metadata": {
  "kernelspec": {
   "display_name": "Python 3 (ipykernel)",
   "language": "python",
   "name": "python3"
  },
  "language_info": {
   "codemirror_mode": {
    "name": "ipython",
    "version": 3
   },
   "file_extension": ".py",
   "mimetype": "text/x-python",
   "name": "python",
   "nbconvert_exporter": "python",
   "pygments_lexer": "ipython3",
   "version": "3.11.3"
  }
 },
 "nbformat": 4,
 "nbformat_minor": 5
}
