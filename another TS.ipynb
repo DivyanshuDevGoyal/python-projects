{
 "cells": [
  {
   "cell_type": "code",
   "execution_count": null,
   "id": "24cfc466-b5e1-492a-b221-3f9e3829b17e",
   "metadata": {},
   "outputs": [
    {
     "name": "stdin",
     "output_type": "stream",
     "text": [
      "Enter your name:-  bunyt\n",
      "Enter yor mobile no.:-  2654\n"
     ]
    },
    {
     "name": "stdout",
     "output_type": "stream",
     "text": [
      "Press 1 for Normal Seat costs 100\n",
      "    Press 2 for Recliner Seat costs 300\n"
     ]
    },
    {
     "name": "stdin",
     "output_type": "stream",
     "text": [
      "Enter choice 1 for Normal Seat and 2 for Recliner Seat :-  2\n",
      "Enter no. of seats you want to book :-  50\n",
      "Do you want combos comprises popCorn and ColdDrink cost Rs 300 (Y / N) :-  yes\n"
     ]
    },
    {
     "name": "stdout",
     "output_type": "stream",
     "text": [
      "******************************\n",
      "Bill 15300\n",
      "******************************\n"
     ]
    },
    {
     "name": "stdin",
     "output_type": "stream",
     "text": [
      " Is there next person ?: (y/n) yes\n",
      "Enter your name:-  cxghj\n",
      "Enter yor mobile no.:-  456985\n"
     ]
    },
    {
     "name": "stdout",
     "output_type": "stream",
     "text": [
      "Press 1 for Normal Seat costs 100\n",
      "    Press 2 for Recliner Seat costs 300\n"
     ]
    },
    {
     "name": "stdin",
     "output_type": "stream",
     "text": [
      "Enter choice 1 for Normal Seat and 2 for Recliner Seat :-  2\n",
      "Enter no. of seats you want to book :-  1\n",
      "Do you want combos comprises popCorn and ColdDrink cost Rs 300 (Y / N) :-  no\n"
     ]
    },
    {
     "name": "stdout",
     "output_type": "stream",
     "text": [
      "******************************\n",
      "Bill 300\n",
      "******************************\n"
     ]
    }
   ],
   "source": [
    "price_n = 100\n",
    "price_recliner = 300\n",
    "price_combos = 300\n",
    "total = 0\n",
    "\n",
    "count_n = 100\n",
    "count_recliner =50\n",
    "\n",
    "while True:\n",
    "    name = input(\"Enter your name:- \")\n",
    "    mob = int(input(\"Enter yor mobile no.:- \"))\n",
    "    print(\"\"\"Press 1 for Normal Seat costs 100\n",
    "    Press 2 for Recliner Seat costs 300\"\"\")\n",
    "    choice = int(input(\"Enter choice 1 for Normal Seat and 2 for Recliner Seat :- \"))\n",
    "    seats = int(input(\"Enter no. of seats you want to book :- \"))\n",
    "    \n",
    "    if choice == 1:\n",
    "        if seats <= count_n:\n",
    "            total = seats * price_n\n",
    "            combos = (input(\"Do you want combos comprises PopCorn and Cold Drink cost Rs 300 (Y / N) :- \"))\n",
    "            if combos == \"yes\":\n",
    "                 total += price_combos\n",
    "            else:\n",
    "                total = seats*price_n\n",
    "        else:\n",
    "            print(\"Sorry Normal Seats are filled\")\n",
    "            continue\n",
    "            \n",
    "    elif choice == 2: \n",
    "        if seats <= count_recliner:\n",
    "            total = seats * price_recliner\n",
    "            combos = (input(\"Do you want combos comprises popCorn and ColdDrink cost Rs 300 (Y / N) :- \"))\n",
    "            if combos == \"yes\":\n",
    "                total += price_combos\n",
    "            else:\n",
    "                total = seats * price_recliner\n",
    "\n",
    "        else:\n",
    "            print(\"Sorry Recliner Seats are filled\")\n",
    "            continue\n",
    "            \n",
    "\n",
    "    else:\n",
    "        print(\"Invalid Choice\")\n",
    "        continue\n",
    "\n",
    "    print(\"*\"*30)\n",
    "    print(\"Bill\",total)\n",
    "    print(\"*\"*30)\n",
    "\n",
    "    next_p = input(\" Is there next person ?: (y/n)\")\n",
    "    if next_p ==\"no\":\n",
    "        break"
   ]
  },
  {
   "cell_type": "code",
   "execution_count": null,
   "id": "086e9402-04c8-4be2-b131-8299dbfea8a6",
   "metadata": {},
   "outputs": [],
   "source": []
  }
 ],
 "metadata": {
  "kernelspec": {
   "display_name": "Python 3 (ipykernel)",
   "language": "python",
   "name": "python3"
  },
  "language_info": {
   "codemirror_mode": {
    "name": "ipython",
    "version": 3
   },
   "file_extension": ".py",
   "mimetype": "text/x-python",
   "name": "python",
   "nbconvert_exporter": "python",
   "pygments_lexer": "ipython3",
   "version": "3.11.5"
  }
 },
 "nbformat": 4,
 "nbformat_minor": 5
}
